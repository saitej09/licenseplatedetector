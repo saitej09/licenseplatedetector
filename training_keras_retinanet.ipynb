{
 "cells": [
  {
   "cell_type": "code",
   "execution_count": 1,
   "metadata": {},
   "outputs": [],
   "source": [
    "import numpy as np\n",
    "import tensorflow as tf\n",
    "import pandas as pd\n",
    "import seaborn as sns\n",
    "from pylab import rcParams\n",
    "import matplotlib.pyplot as plt\n",
    "from matplotlib import rc\n",
    "from pandas.plotting import register_matplotlib_converters\n",
    "from sklearn.model_selection import train_test_split\n",
    "import urllib\n",
    "import os\n",
    "import csv\n",
    "import cv2\n",
    "import time\n",
    "from PIL import Image\n",
    "\n",
    "from keras_retinanet import models\n",
    "from keras_retinanet.utils.image import read_image_bgr, preprocess_image, resize_image\n",
    "from keras_retinanet.utils.visualization import draw_box, draw_caption\n",
    "from keras_retinanet.utils.colors import label_color\n",
    "\n",
    "%matplotlib inline\n",
    "%config InlineBackend.figure_format='retina'\n",
    "\n",
    "register_matplotlib_converters()\n",
    "sns.set(style='whitegrid', palette='muted', font_scale=1.5)\n",
    "\n",
    "rcParams['figure.figsize'] = 22, 10\n",
    "\n",
    "RANDOM_SEED = 42\n",
    "\n",
    "np.random.seed(RANDOM_SEED)\n",
    "tf.random.set_seed(RANDOM_SEED)"
   ]
  },
  {
   "cell_type": "code",
   "execution_count": 2,
   "metadata": {},
   "outputs": [],
   "source": [
    "os.makedirs(\"snapshots\", exist_ok=True)"
   ]
  },
  {
   "cell_type": "code",
   "execution_count": 3,
   "metadata": {},
   "outputs": [],
   "source": [
    "#!wget --header 'Host: doc-14-58-docs.googleusercontent.com' --user-agent 'Mozilla/5.0 (Windows NT 10.0; Win64; x64; rv:75.0) Gecko/20100101 Firefox/75.0' --header 'Accept: text/html,application/xhtml+xml,application/xml;q=0.9,image/webp,*/*;q=0.8' --header 'Accept-Language: en-US,en;q=0.5' --referer 'https://drive.google.com/uc?id=1wPgOBoSks6bTIs9RzNvZf6HWROkciS8R' --header 'DNT: 1' --header 'Cookie: AUTH_du2s671ksr3d23d9f5l3dgdt8geo7lbv_nonce=diq6am7vgd4oc; _ga=GA1.2.1544767178.1559556380' --header 'Upgrade-Insecure-Requests: 1' 'https://doc-14-58-docs.googleusercontent.com/docs/securesc/tjmqopet735sj103qll72jkoabtv3hkc/6fn10j96e3urpc7nkc5hbss73ougqi0f/1587469725000/01328360181817234523/06581179416702578279/1wPgOBoSks6bTIs9RzNvZf6HWROkciS8R?e=download&authuser=0&nonce=diq6am7vgd4oc&user=06581179416702578279&hash=bc51kf9i7kh6r6em4839g163n1lsjf43' --output-document 'resnet50_csv_10.h5'"
   ]
  },
  {
   "cell_type": "code",
   "execution_count": 4,
   "metadata": {},
   "outputs": [],
   "source": [
    "# path/to/image.jpg,x1,y1,x2,y2,class_name\n",
    "#required for keras retina net\n",
    "df =pd.read_csv('traindata.csv')"
   ]
  },
  {
   "cell_type": "code",
   "execution_count": 5,
   "metadata": {},
   "outputs": [
    {
     "data": {
      "text/html": [
       "<div>\n",
       "<style scoped>\n",
       "    .dataframe tbody tr th:only-of-type {\n",
       "        vertical-align: middle;\n",
       "    }\n",
       "\n",
       "    .dataframe tbody tr th {\n",
       "        vertical-align: top;\n",
       "    }\n",
       "\n",
       "    .dataframe thead th {\n",
       "        text-align: right;\n",
       "    }\n",
       "</style>\n",
       "<table border=\"1\" class=\"dataframe\">\n",
       "  <thead>\n",
       "    <tr style=\"text-align: right;\">\n",
       "      <th></th>\n",
       "      <th>imagenames</th>\n",
       "      <th>topx</th>\n",
       "      <th>topy</th>\n",
       "      <th>bottomx</th>\n",
       "      <th>bottomy</th>\n",
       "    </tr>\n",
       "  </thead>\n",
       "  <tbody>\n",
       "    <tr>\n",
       "      <th>0</th>\n",
       "      <td>Images/car1.jpeg</td>\n",
       "      <td>582</td>\n",
       "      <td>274</td>\n",
       "      <td>700</td>\n",
       "      <td>321</td>\n",
       "    </tr>\n",
       "    <tr>\n",
       "      <th>1</th>\n",
       "      <td>Images/car2.jpeg</td>\n",
       "      <td>80</td>\n",
       "      <td>382</td>\n",
       "      <td>288</td>\n",
       "      <td>449</td>\n",
       "    </tr>\n",
       "    <tr>\n",
       "      <th>2</th>\n",
       "      <td>Images/car3.jpeg</td>\n",
       "      <td>41</td>\n",
       "      <td>219</td>\n",
       "      <td>115</td>\n",
       "      <td>260</td>\n",
       "    </tr>\n",
       "    <tr>\n",
       "      <th>3</th>\n",
       "      <td>Images/car4.jpeg</td>\n",
       "      <td>217</td>\n",
       "      <td>313</td>\n",
       "      <td>359</td>\n",
       "      <td>359</td>\n",
       "    </tr>\n",
       "    <tr>\n",
       "      <th>4</th>\n",
       "      <td>Images/car5.jpeg</td>\n",
       "      <td>209</td>\n",
       "      <td>220</td>\n",
       "      <td>866</td>\n",
       "      <td>554</td>\n",
       "    </tr>\n",
       "  </tbody>\n",
       "</table>\n",
       "</div>"
      ],
      "text/plain": [
       "         imagenames  topx  topy  bottomx  bottomy\n",
       "0  Images/car1.jpeg   582   274      700      321\n",
       "1  Images/car2.jpeg    80   382      288      449\n",
       "2  Images/car3.jpeg    41   219      115      260\n",
       "3  Images/car4.jpeg   217   313      359      359\n",
       "4  Images/car5.jpeg   209   220      866      554"
      ]
     },
     "execution_count": 5,
     "metadata": {},
     "output_type": "execute_result"
    }
   ],
   "source": [
    "df.head()"
   ]
  },
  {
   "cell_type": "code",
   "execution_count": 6,
   "metadata": {},
   "outputs": [],
   "source": [
    "df['class_name'] = 'license_plate'"
   ]
  },
  {
   "cell_type": "code",
   "execution_count": 7,
   "metadata": {},
   "outputs": [
    {
     "data": {
      "text/html": [
       "<div>\n",
       "<style scoped>\n",
       "    .dataframe tbody tr th:only-of-type {\n",
       "        vertical-align: middle;\n",
       "    }\n",
       "\n",
       "    .dataframe tbody tr th {\n",
       "        vertical-align: top;\n",
       "    }\n",
       "\n",
       "    .dataframe thead th {\n",
       "        text-align: right;\n",
       "    }\n",
       "</style>\n",
       "<table border=\"1\" class=\"dataframe\">\n",
       "  <thead>\n",
       "    <tr style=\"text-align: right;\">\n",
       "      <th></th>\n",
       "      <th>imagenames</th>\n",
       "      <th>topx</th>\n",
       "      <th>topy</th>\n",
       "      <th>bottomx</th>\n",
       "      <th>bottomy</th>\n",
       "      <th>class_name</th>\n",
       "    </tr>\n",
       "  </thead>\n",
       "  <tbody>\n",
       "    <tr>\n",
       "      <th>0</th>\n",
       "      <td>Images/car1.jpeg</td>\n",
       "      <td>582</td>\n",
       "      <td>274</td>\n",
       "      <td>700</td>\n",
       "      <td>321</td>\n",
       "      <td>license_plate</td>\n",
       "    </tr>\n",
       "    <tr>\n",
       "      <th>1</th>\n",
       "      <td>Images/car2.jpeg</td>\n",
       "      <td>80</td>\n",
       "      <td>382</td>\n",
       "      <td>288</td>\n",
       "      <td>449</td>\n",
       "      <td>license_plate</td>\n",
       "    </tr>\n",
       "    <tr>\n",
       "      <th>2</th>\n",
       "      <td>Images/car3.jpeg</td>\n",
       "      <td>41</td>\n",
       "      <td>219</td>\n",
       "      <td>115</td>\n",
       "      <td>260</td>\n",
       "      <td>license_plate</td>\n",
       "    </tr>\n",
       "    <tr>\n",
       "      <th>3</th>\n",
       "      <td>Images/car4.jpeg</td>\n",
       "      <td>217</td>\n",
       "      <td>313</td>\n",
       "      <td>359</td>\n",
       "      <td>359</td>\n",
       "      <td>license_plate</td>\n",
       "    </tr>\n",
       "    <tr>\n",
       "      <th>4</th>\n",
       "      <td>Images/car5.jpeg</td>\n",
       "      <td>209</td>\n",
       "      <td>220</td>\n",
       "      <td>866</td>\n",
       "      <td>554</td>\n",
       "      <td>license_plate</td>\n",
       "    </tr>\n",
       "  </tbody>\n",
       "</table>\n",
       "</div>"
      ],
      "text/plain": [
       "         imagenames  topx  topy  bottomx  bottomy     class_name\n",
       "0  Images/car1.jpeg   582   274      700      321  license_plate\n",
       "1  Images/car2.jpeg    80   382      288      449  license_plate\n",
       "2  Images/car3.jpeg    41   219      115      260  license_plate\n",
       "3  Images/car4.jpeg   217   313      359      359  license_plate\n",
       "4  Images/car5.jpeg   209   220      866      554  license_plate"
      ]
     },
     "execution_count": 7,
     "metadata": {},
     "output_type": "execute_result"
    }
   ],
   "source": [
    "df.head()"
   ]
  },
  {
   "cell_type": "code",
   "execution_count": 8,
   "metadata": {},
   "outputs": [],
   "source": [
    "train_df, test_df = train_test_split(\n",
    "  df,\n",
    "  test_size=0.2,\n",
    "  random_state=RANDOM_SEED\n",
    ")"
   ]
  },
  {
   "cell_type": "code",
   "execution_count": 16,
   "metadata": {},
   "outputs": [],
   "source": [
    "annotations_file = 'annotations.csv'\n",
    "classes_file = 'classes.csv'"
   ]
  },
  {
   "cell_type": "code",
   "execution_count": 18,
   "metadata": {},
   "outputs": [],
   "source": [
    "train_df.to_csv(annotations_file, index=False, header=None)\n"
   ]
  },
  {
   "cell_type": "code",
   "execution_count": 19,
   "metadata": {},
   "outputs": [],
   "source": [
    "#writing a classes file\n",
    "\n",
    "classes = set(['license_plate'])\n",
    "\n",
    "with open(classes_file, 'w') as f:\n",
    "    \n",
    "    for i, line in enumerate(sorted(classes)):\n",
    "        f.write('{},{}\\n'.format(line,i))"
   ]
  },
  {
   "cell_type": "code",
   "execution_count": 20,
   "metadata": {},
   "outputs": [],
   "source": [
    "os.makedirs(\"snapshots\", exist_ok=True)"
   ]
  },
  {
   "cell_type": "code",
   "execution_count": 21,
   "metadata": {},
   "outputs": [
    {
     "name": "stdout",
     "output_type": "stream",
     "text": [
      "Downloaded pretrained model to ./snapshots/_pretrained_model.h5\n"
     ]
    }
   ],
   "source": [
    "PRETRAINED_MODEL = './snapshots/_pretrained_model.h5'\n",
    "\n",
    "URL_MODEL = 'https://github.com/fizyr/keras-retinanet/releases/download/0.5.1/resnet50_coco_best_v2.1.0.h5'\n",
    "urllib.request.urlretrieve(URL_MODEL, PRETRAINED_MODEL)\n",
    "\n",
    "print('Downloaded pretrained model to ' + PRETRAINED_MODEL)"
   ]
  },
  {
   "cell_type": "code",
   "execution_count": 27,
   "metadata": {},
   "outputs": [
    {
     "name": "stdout",
     "output_type": "stream",
     "text": [
      "WARNING:tensorflow:From <ipython-input-27-97ecbf874269>:2: is_gpu_available (from tensorflow.python.framework.test_util) is deprecated and will be removed in a future version.\n",
      "Instructions for updating:\n",
      "Use `tf.config.list_physical_devices('GPU')` instead.\n"
     ]
    },
    {
     "data": {
      "text/plain": [
       "True"
      ]
     },
     "execution_count": 27,
     "metadata": {},
     "output_type": "execute_result"
    }
   ],
   "source": [
    "tf.test.is_gpu_available(\n",
    "    cuda_only=False, min_cuda_compute_capability=None\n",
    ")\n"
   ]
  },
  {
   "cell_type": "code",
   "execution_count": null,
   "metadata": {},
   "outputs": [],
   "source": [
    "##Run the below command from terminal"
   ]
  },
  {
   "cell_type": "code",
   "execution_count": 28,
   "metadata": {},
   "outputs": [
    {
     "name": "stdout",
     "output_type": "stream",
     "text": [
      "Using TensorFlow backend.\n",
      "2020-04-21 12:39:26.517154: I tensorflow/stream_executor/platform/default/dso_loader.cc:44] Successfully opened dynamic library libnvinfer.so.6\n",
      "2020-04-21 12:39:26.518850: I tensorflow/stream_executor/platform/default/dso_loader.cc:44] Successfully opened dynamic library libnvinfer_plugin.so.6\n",
      "Creating model, this may take a second...\n",
      "2020-04-21 12:39:27.348154: I tensorflow/stream_executor/platform/default/dso_loader.cc:44] Successfully opened dynamic library libcuda.so.1\n",
      "2020-04-21 12:39:27.359311: I tensorflow/core/common_runtime/gpu/gpu_device.cc:1555] Found device 0 with properties: \n",
      "pciBusID: 4f5b:00:00.0 name: Tesla M60 computeCapability: 5.2\n",
      "coreClock: 1.1775GHz coreCount: 16 deviceMemorySize: 7.94GiB deviceMemoryBandwidth: 149.31GiB/s\n",
      "2020-04-21 12:39:27.360168: I tensorflow/core/common_runtime/gpu/gpu_device.cc:1555] Found device 1 with properties: \n",
      "pciBusID: 7f4d:00:00.0 name: Tesla M60 computeCapability: 5.2\n",
      "coreClock: 1.1775GHz coreCount: 16 deviceMemorySize: 7.94GiB deviceMemoryBandwidth: 149.31GiB/s\n",
      "2020-04-21 12:39:27.361023: I tensorflow/core/common_runtime/gpu/gpu_device.cc:1555] Found device 2 with properties: \n",
      "pciBusID: a001:00:00.0 name: Tesla M60 computeCapability: 5.2\n",
      "coreClock: 1.1775GHz coreCount: 16 deviceMemorySize: 7.94GiB deviceMemoryBandwidth: 149.31GiB/s\n",
      "2020-04-21 12:39:27.361856: I tensorflow/core/common_runtime/gpu/gpu_device.cc:1555] Found device 3 with properties: \n",
      "pciBusID: bf35:00:00.0 name: Tesla M60 computeCapability: 5.2\n",
      "coreClock: 1.1775GHz coreCount: 16 deviceMemorySize: 7.94GiB deviceMemoryBandwidth: 149.31GiB/s\n",
      "2020-04-21 12:39:27.361899: I tensorflow/stream_executor/platform/default/dso_loader.cc:44] Successfully opened dynamic library libcudart.so.10.1\n",
      "2020-04-21 12:39:27.361937: I tensorflow/stream_executor/platform/default/dso_loader.cc:44] Successfully opened dynamic library libcublas.so.10\n",
      "2020-04-21 12:39:27.363612: I tensorflow/stream_executor/platform/default/dso_loader.cc:44] Successfully opened dynamic library libcufft.so.10\n",
      "2020-04-21 12:39:27.363898: I tensorflow/stream_executor/platform/default/dso_loader.cc:44] Successfully opened dynamic library libcurand.so.10\n",
      "2020-04-21 12:39:27.365723: I tensorflow/stream_executor/platform/default/dso_loader.cc:44] Successfully opened dynamic library libcusolver.so.10\n",
      "2020-04-21 12:39:27.366964: I tensorflow/stream_executor/platform/default/dso_loader.cc:44] Successfully opened dynamic library libcusparse.so.10\n",
      "2020-04-21 12:39:27.367014: I tensorflow/stream_executor/platform/default/dso_loader.cc:44] Successfully opened dynamic library libcudnn.so.7\n",
      "2020-04-21 12:39:27.373049: I tensorflow/core/common_runtime/gpu/gpu_device.cc:1697] Adding visible gpu devices: 0, 1, 2, 3\n",
      "2020-04-21 12:39:27.373275: I tensorflow/core/platform/cpu_feature_guard.cc:142] Your CPU supports instructions that this TensorFlow binary was not compiled to use: AVX2 FMA\n",
      "2020-04-21 12:39:27.381442: I tensorflow/core/platform/profile_utils/cpu_utils.cc:94] CPU Frequency: 2596985000 Hz\n",
      "2020-04-21 12:39:27.384555: I tensorflow/compiler/xla/service/service.cc:168] XLA service 0x562d76e5fbb0 initialized for platform Host (this does not guarantee that XLA will be used). Devices:\n",
      "2020-04-21 12:39:27.384581: I tensorflow/compiler/xla/service/service.cc:176]   StreamExecutor device (0): Host, Default Version\n",
      "2020-04-21 12:39:27.810444: I tensorflow/compiler/xla/service/service.cc:168] XLA service 0x562d769745b0 initialized for platform CUDA (this does not guarantee that XLA will be used). Devices:\n",
      "2020-04-21 12:39:27.810485: I tensorflow/compiler/xla/service/service.cc:176]   StreamExecutor device (0): Tesla M60, Compute Capability 5.2\n",
      "2020-04-21 12:39:27.810497: I tensorflow/compiler/xla/service/service.cc:176]   StreamExecutor device (1): Tesla M60, Compute Capability 5.2\n",
      "2020-04-21 12:39:27.810506: I tensorflow/compiler/xla/service/service.cc:176]   StreamExecutor device (2): Tesla M60, Compute Capability 5.2\n",
      "2020-04-21 12:39:27.810514: I tensorflow/compiler/xla/service/service.cc:176]   StreamExecutor device (3): Tesla M60, Compute Capability 5.2\n",
      "2020-04-21 12:39:27.811680: I tensorflow/core/common_runtime/gpu/gpu_device.cc:1555] Found device 0 with properties: \n",
      "pciBusID: 4f5b:00:00.0 name: Tesla M60 computeCapability: 5.2\n",
      "coreClock: 1.1775GHz coreCount: 16 deviceMemorySize: 7.94GiB deviceMemoryBandwidth: 149.31GiB/s\n",
      "2020-04-21 12:39:27.812527: I tensorflow/core/common_runtime/gpu/gpu_device.cc:1555] Found device 1 with properties: \n",
      "pciBusID: 7f4d:00:00.0 name: Tesla M60 computeCapability: 5.2\n",
      "coreClock: 1.1775GHz coreCount: 16 deviceMemorySize: 7.94GiB deviceMemoryBandwidth: 149.31GiB/s\n",
      "2020-04-21 12:39:27.813380: I tensorflow/core/common_runtime/gpu/gpu_device.cc:1555] Found device 2 with properties: \n",
      "pciBusID: a001:00:00.0 name: Tesla M60 computeCapability: 5.2\n",
      "coreClock: 1.1775GHz coreCount: 16 deviceMemorySize: 7.94GiB deviceMemoryBandwidth: 149.31GiB/s\n",
      "2020-04-21 12:39:27.814207: I tensorflow/core/common_runtime/gpu/gpu_device.cc:1555] Found device 3 with properties: \n",
      "pciBusID: bf35:00:00.0 name: Tesla M60 computeCapability: 5.2\n",
      "coreClock: 1.1775GHz coreCount: 16 deviceMemorySize: 7.94GiB deviceMemoryBandwidth: 149.31GiB/s\n",
      "2020-04-21 12:39:27.814257: I tensorflow/stream_executor/platform/default/dso_loader.cc:44] Successfully opened dynamic library libcudart.so.10.1\n",
      "2020-04-21 12:39:27.814278: I tensorflow/stream_executor/platform/default/dso_loader.cc:44] Successfully opened dynamic library libcublas.so.10\n",
      "2020-04-21 12:39:27.814315: I tensorflow/stream_executor/platform/default/dso_loader.cc:44] Successfully opened dynamic library libcufft.so.10\n",
      "2020-04-21 12:39:27.814341: I tensorflow/stream_executor/platform/default/dso_loader.cc:44] Successfully opened dynamic library libcurand.so.10\n",
      "2020-04-21 12:39:27.814365: I tensorflow/stream_executor/platform/default/dso_loader.cc:44] Successfully opened dynamic library libcusolver.so.10\n",
      "2020-04-21 12:39:27.814389: I tensorflow/stream_executor/platform/default/dso_loader.cc:44] Successfully opened dynamic library libcusparse.so.10\n",
      "2020-04-21 12:39:27.814410: I tensorflow/stream_executor/platform/default/dso_loader.cc:44] Successfully opened dynamic library libcudnn.so.7\n",
      "2020-04-21 12:39:27.820860: I tensorflow/core/common_runtime/gpu/gpu_device.cc:1697] Adding visible gpu devices: 0, 1, 2, 3\n",
      "2020-04-21 12:39:27.820915: I tensorflow/stream_executor/platform/default/dso_loader.cc:44] Successfully opened dynamic library libcudart.so.10.1\n",
      "2020-04-21 12:39:28.617357: I tensorflow/core/common_runtime/gpu/gpu_device.cc:1096] Device interconnect StreamExecutor with strength 1 edge matrix:\n",
      "2020-04-21 12:39:28.617410: I tensorflow/core/common_runtime/gpu/gpu_device.cc:1102]      0 1 2 3 \n",
      "2020-04-21 12:39:28.617423: I tensorflow/core/common_runtime/gpu/gpu_device.cc:1115] 0:   N N N N \n",
      "2020-04-21 12:39:28.617432: I tensorflow/core/common_runtime/gpu/gpu_device.cc:1115] 1:   N N N N \n",
      "2020-04-21 12:39:28.617441: I tensorflow/core/common_runtime/gpu/gpu_device.cc:1115] 2:   N N N N \n",
      "2020-04-21 12:39:28.617449: I tensorflow/core/common_runtime/gpu/gpu_device.cc:1115] 3:   N N N N \n",
      "2020-04-21 12:39:28.621342: I tensorflow/core/common_runtime/gpu/gpu_device.cc:1241] Created TensorFlow device (/job:localhost/replica:0/task:0/device:GPU:0 with 62 MB memory) -> physical GPU (device: 0, name: Tesla M60, pci bus id: 4f5b:00:00.0, compute capability: 5.2)\n",
      "2020-04-21 12:39:28.622740: I tensorflow/core/common_runtime/gpu/gpu_device.cc:1241] Created TensorFlow device (/job:localhost/replica:0/task:0/device:GPU:1 with 7367 MB memory) -> physical GPU (device: 1, name: Tesla M60, pci bus id: 7f4d:00:00.0, compute capability: 5.2)\n",
      "2020-04-21 12:39:28.623994: I tensorflow/core/common_runtime/gpu/gpu_device.cc:1241] Created TensorFlow device (/job:localhost/replica:0/task:0/device:GPU:2 with 7367 MB memory) -> physical GPU (device: 2, name: Tesla M60, pci bus id: a001:00:00.0, compute capability: 5.2)\n",
      "2020-04-21 12:39:28.625306: I tensorflow/core/common_runtime/gpu/gpu_device.cc:1241] Created TensorFlow device (/job:localhost/replica:0/task:0/device:GPU:3 with 7367 MB memory) -> physical GPU (device: 3, name: Tesla M60, pci bus id: bf35:00:00.0, compute capability: 5.2)\n",
      "2020-04-21 12:39:28.636943: I tensorflow/stream_executor/cuda/cuda_driver.cc:801] failed to allocate 62.12M (65142784 bytes) from device: CUDA_ERROR_OUT_OF_MEMORY: out of memory\n"
     ]
    },
    {
     "name": "stdout",
     "output_type": "stream",
     "text": [
      "2020-04-21 12:39:28.670360: F ./tensorflow/core/kernels/random_op_gpu.h:232] Non-OK-status: GpuLaunchKernel(FillPhiloxRandomKernelLaunch<Distribution>, num_blocks, block_size, 0, d.stream(), gen, data, size, dist) status: Internal: out of memory\n",
      "Aborted (core dumped)\n"
     ]
    }
   ],
   "source": [
    "!retinanet-train --freeze-backbone --random-transform --weights {PRETRAINED_MODEL} --batch-size 32 --steps 500 --epochs 20 csv annotations.csv classes.csv"
   ]
  },
  {
   "cell_type": "code",
   "execution_count": null,
   "metadata": {},
   "outputs": [],
   "source": []
  }
 ],
 "metadata": {
  "kernelspec": {
   "display_name": "Python 3",
   "language": "python",
   "name": "python3"
  },
  "language_info": {
   "codemirror_mode": {
    "name": "ipython",
    "version": 3
   },
   "file_extension": ".py",
   "mimetype": "text/x-python",
   "name": "python",
   "nbconvert_exporter": "python",
   "pygments_lexer": "ipython3",
   "version": "3.7.6"
  }
 },
 "nbformat": 4,
 "nbformat_minor": 4
}
