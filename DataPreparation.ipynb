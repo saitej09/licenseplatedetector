{
 "cells": [
  {
   "cell_type": "code",
   "execution_count": 1,
   "metadata": {},
   "outputs": [],
   "source": [
    "import json\n",
    "import numpy as np\n",
    "import pandas as pd\n",
    "import requests\n",
    "import urllib\n",
    "from PIL import Image\n",
    "import io\n",
    "from io import BytesIO"
   ]
  },
  {
   "cell_type": "code",
   "execution_count": 2,
   "metadata": {},
   "outputs": [],
   "source": [
    "data = pd.read_json('Indian_Number_plates.json', lines=True)"
   ]
  },
  {
   "cell_type": "code",
   "execution_count": 3,
   "metadata": {},
   "outputs": [
    {
     "data": {
      "text/html": [
       "<div>\n",
       "<style scoped>\n",
       "    .dataframe tbody tr th:only-of-type {\n",
       "        vertical-align: middle;\n",
       "    }\n",
       "\n",
       "    .dataframe tbody tr th {\n",
       "        vertical-align: top;\n",
       "    }\n",
       "\n",
       "    .dataframe thead th {\n",
       "        text-align: right;\n",
       "    }\n",
       "</style>\n",
       "<table border=\"1\" class=\"dataframe\">\n",
       "  <thead>\n",
       "    <tr style=\"text-align: right;\">\n",
       "      <th></th>\n",
       "      <th>content</th>\n",
       "      <th>annotation</th>\n",
       "      <th>extras</th>\n",
       "    </tr>\n",
       "  </thead>\n",
       "  <tbody>\n",
       "    <tr>\n",
       "      <th>0</th>\n",
       "      <td>http://com.dataturks.a96-i23.open.s3.amazonaws...</td>\n",
       "      <td>[{'label': ['number_plate'], 'notes': '', 'poi...</td>\n",
       "      <td>NaN</td>\n",
       "    </tr>\n",
       "    <tr>\n",
       "      <th>1</th>\n",
       "      <td>http://com.dataturks.a96-i23.open.s3.amazonaws...</td>\n",
       "      <td>[{'label': ['number_plate'], 'notes': '', 'poi...</td>\n",
       "      <td>NaN</td>\n",
       "    </tr>\n",
       "    <tr>\n",
       "      <th>2</th>\n",
       "      <td>http://com.dataturks.a96-i23.open.s3.amazonaws...</td>\n",
       "      <td>[{'label': ['number_plate'], 'notes': '', 'poi...</td>\n",
       "      <td>NaN</td>\n",
       "    </tr>\n",
       "    <tr>\n",
       "      <th>3</th>\n",
       "      <td>http://com.dataturks.a96-i23.open.s3.amazonaws...</td>\n",
       "      <td>[{'label': ['number_plate'], 'notes': '', 'poi...</td>\n",
       "      <td>NaN</td>\n",
       "    </tr>\n",
       "    <tr>\n",
       "      <th>4</th>\n",
       "      <td>http://com.dataturks.a96-i23.open.s3.amazonaws...</td>\n",
       "      <td>[{'label': ['number_plate'], 'notes': '', 'poi...</td>\n",
       "      <td>NaN</td>\n",
       "    </tr>\n",
       "  </tbody>\n",
       "</table>\n",
       "</div>"
      ],
      "text/plain": [
       "                                             content  \\\n",
       "0  http://com.dataturks.a96-i23.open.s3.amazonaws...   \n",
       "1  http://com.dataturks.a96-i23.open.s3.amazonaws...   \n",
       "2  http://com.dataturks.a96-i23.open.s3.amazonaws...   \n",
       "3  http://com.dataturks.a96-i23.open.s3.amazonaws...   \n",
       "4  http://com.dataturks.a96-i23.open.s3.amazonaws...   \n",
       "\n",
       "                                          annotation  extras  \n",
       "0  [{'label': ['number_plate'], 'notes': '', 'poi...     NaN  \n",
       "1  [{'label': ['number_plate'], 'notes': '', 'poi...     NaN  \n",
       "2  [{'label': ['number_plate'], 'notes': '', 'poi...     NaN  \n",
       "3  [{'label': ['number_plate'], 'notes': '', 'poi...     NaN  \n",
       "4  [{'label': ['number_plate'], 'notes': '', 'poi...     NaN  "
      ]
     },
     "execution_count": 3,
     "metadata": {},
     "output_type": "execute_result"
    }
   ],
   "source": [
    "data.head()"
   ]
  },
  {
   "cell_type": "markdown",
   "metadata": {},
   "source": [
    "## Downloading images "
   ]
  },
  {
   "cell_type": "code",
   "execution_count": 12,
   "metadata": {},
   "outputs": [],
   "source": [
    "def convertPoints(row):\n",
    "    data = row[\"annotation\"]\n",
    "    topx = data[0][\"points\"][0][\"x\"]\n",
    "    topy = data[0][\"points\"][0][\"y\"]\n",
    "    bottomx =data[0][\"points\"][1][\"x\"]\n",
    "    bottomy =data[0][\"points\"][1][\"y\"]\n",
    "    \n",
    "    return topx, topy, bottomx, bottomy\n",
    "    \n",
    "    "
   ]
  },
  {
   "cell_type": "code",
   "execution_count": 15,
   "metadata": {},
   "outputs": [],
   "source": [
    "def downloadData(df, outdir):\n",
    "    counter = 0\n",
    "    imagenames = []\n",
    "    topxs = []\n",
    "    topys = []\n",
    "    bottomxs = []\n",
    "    bottomys = []\n",
    "    for index, row in df.iterrows():\n",
    "        \n",
    "        response = requests.request(\"GET\", row['content'])\n",
    "        im = Image.open(BytesIO(response.content))\n",
    "        im = im.convert('RGB')\n",
    "#         print(outdir + \"/licensed_car{}.jpeg\".format(counter))\n",
    "        counter  += 1\n",
    "        im.save(outdir + \"/car{}.jpeg\".format(counter))\n",
    "        imagenames.append(outdir + \"/car{}.jpeg\".format(counter))\n",
    "        data = row[\"annotation\"]\n",
    "        width = data[0][\"imageWidth\"]\n",
    "        height = data[0][\"imageHeight\"]\n",
    "        topx, topy, bottomx, bottomy = convertPoints(row)\n",
    "        topxs.append(int(round(topx*width)))\n",
    "        topys.append(int(round(topy*height)))\n",
    "        bottomxs.append(int(round(bottomx*width)))\n",
    "        bottomys.append(int(round(bottomy*height)))\n",
    "    print('Downloaded {} images'.format(counter))\n",
    "    return imagenames, topxs, topys, bottomxs, bottomys"
   ]
  },
  {
   "cell_type": "code",
   "execution_count": 16,
   "metadata": {},
   "outputs": [
    {
     "name": "stdout",
     "output_type": "stream",
     "text": [
      "Downloaded 237 images\n"
     ]
    }
   ],
   "source": [
    "imgNames, topxs, topys, bottomxs, bottomys = downloadData(data, 'Images')"
   ]
  },
  {
   "cell_type": "code",
   "execution_count": 18,
   "metadata": {},
   "outputs": [],
   "source": [
    "data_final = pd.DataFrame()\n",
    "data_final['imagenames'] = imgNames\n",
    "data_final['topx'] = topxs\n",
    "data_final['topy'] = topys\n",
    "data_final['bottomx'] = bottomxs\n",
    "data_final['bottomy'] = bottomys\n"
   ]
  },
  {
   "cell_type": "code",
   "execution_count": 19,
   "metadata": {},
   "outputs": [
    {
     "data": {
      "text/html": [
       "<div>\n",
       "<style scoped>\n",
       "    .dataframe tbody tr th:only-of-type {\n",
       "        vertical-align: middle;\n",
       "    }\n",
       "\n",
       "    .dataframe tbody tr th {\n",
       "        vertical-align: top;\n",
       "    }\n",
       "\n",
       "    .dataframe thead th {\n",
       "        text-align: right;\n",
       "    }\n",
       "</style>\n",
       "<table border=\"1\" class=\"dataframe\">\n",
       "  <thead>\n",
       "    <tr style=\"text-align: right;\">\n",
       "      <th></th>\n",
       "      <th>imagenames</th>\n",
       "      <th>topx</th>\n",
       "      <th>topy</th>\n",
       "      <th>bottomx</th>\n",
       "      <th>bottomy</th>\n",
       "    </tr>\n",
       "  </thead>\n",
       "  <tbody>\n",
       "    <tr>\n",
       "      <th>0</th>\n",
       "      <td>Images/car1.jpeg</td>\n",
       "      <td>582</td>\n",
       "      <td>274</td>\n",
       "      <td>700</td>\n",
       "      <td>321</td>\n",
       "    </tr>\n",
       "    <tr>\n",
       "      <th>1</th>\n",
       "      <td>Images/car2.jpeg</td>\n",
       "      <td>80</td>\n",
       "      <td>382</td>\n",
       "      <td>288</td>\n",
       "      <td>449</td>\n",
       "    </tr>\n",
       "    <tr>\n",
       "      <th>2</th>\n",
       "      <td>Images/car3.jpeg</td>\n",
       "      <td>41</td>\n",
       "      <td>219</td>\n",
       "      <td>115</td>\n",
       "      <td>260</td>\n",
       "    </tr>\n",
       "    <tr>\n",
       "      <th>3</th>\n",
       "      <td>Images/car4.jpeg</td>\n",
       "      <td>217</td>\n",
       "      <td>313</td>\n",
       "      <td>359</td>\n",
       "      <td>359</td>\n",
       "    </tr>\n",
       "    <tr>\n",
       "      <th>4</th>\n",
       "      <td>Images/car5.jpeg</td>\n",
       "      <td>209</td>\n",
       "      <td>220</td>\n",
       "      <td>866</td>\n",
       "      <td>554</td>\n",
       "    </tr>\n",
       "  </tbody>\n",
       "</table>\n",
       "</div>"
      ],
      "text/plain": [
       "         imagenames  topx  topy  bottomx  bottomy\n",
       "0  Images/car1.jpeg   582   274      700      321\n",
       "1  Images/car2.jpeg    80   382      288      449\n",
       "2  Images/car3.jpeg    41   219      115      260\n",
       "3  Images/car4.jpeg   217   313      359      359\n",
       "4  Images/car5.jpeg   209   220      866      554"
      ]
     },
     "execution_count": 19,
     "metadata": {},
     "output_type": "execute_result"
    }
   ],
   "source": [
    "data_final.head()"
   ]
  },
  {
   "cell_type": "code",
   "execution_count": 20,
   "metadata": {},
   "outputs": [],
   "source": [
    "data_final.to_csv('traindata.csv', index=False)"
   ]
  },
  {
   "cell_type": "code",
   "execution_count": null,
   "metadata": {},
   "outputs": [],
   "source": []
  }
 ],
 "metadata": {
  "kernelspec": {
   "display_name": "Python 3",
   "language": "python",
   "name": "python3"
  },
  "language_info": {
   "codemirror_mode": {
    "name": "ipython",
    "version": 3
   },
   "file_extension": ".py",
   "mimetype": "text/x-python",
   "name": "python",
   "nbconvert_exporter": "python",
   "pygments_lexer": "ipython3",
   "version": "3.7.6"
  }
 },
 "nbformat": 4,
 "nbformat_minor": 4
}
